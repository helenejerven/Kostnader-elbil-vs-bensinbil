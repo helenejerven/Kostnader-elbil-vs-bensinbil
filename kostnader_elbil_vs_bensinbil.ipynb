{
 "cells": [
  {
   "cell_type": "markdown",
   "id": "75a0b16c-bd63-4329-ae38-61ce48020c60",
   "metadata": {},
   "source": [
    "# Antall kjørte kilometer per år"
   ]
  },
  {
   "cell_type": "code",
   "execution_count": 138,
   "id": "34467ed8-b445-4a08-9c2f-079491fe9a25",
   "metadata": {},
   "outputs": [],
   "source": [
    "km_per_aar = 10000"
   ]
  },
  {
   "cell_type": "markdown",
   "id": "d3185563-fa2c-46c5-bd89-bc8fbc5c7056",
   "metadata": {},
   "source": [
    "# Forsikringskostnader"
   ]
  },
  {
   "cell_type": "code",
   "execution_count": 140,
   "id": "67ea0b1e-f195-4123-a826-3e6a331237cd",
   "metadata": {},
   "outputs": [],
   "source": [
    "forsikring_elbil = 5000  # kr/år\n",
    "forsikring_bensinbil = 7500  # kr/år"
   ]
  },
  {
   "cell_type": "markdown",
   "id": "1098777b-a908-4de5-9bd4-c10188f892e6",
   "metadata": {},
   "source": [
    "# Trafikkforsikringsavgift per dag"
   ]
  },
  {
   "cell_type": "code",
   "execution_count": 142,
   "id": "54d22c6f-5888-4be0-b8dc-04579da9eea9",
   "metadata": {},
   "outputs": [],
   "source": [
    "trafikkforsikringsavgift = 8.38  # kr/dag\n",
    "dager_per_aar = 365\n",
    "trafikkforsikringsavgift_aar = trafikkforsikringsavgift * dager_per_aar\n"
   ]
  },
  {
   "cell_type": "markdown",
   "id": "95fe0776-a5d8-440b-b4c7-d17a64d3f241",
   "metadata": {},
   "source": [
    "# Drivstoffkostnader"
   ]
  },
  {
   "cell_type": "code",
   "execution_count": 144,
   "id": "3a7a4fe2-805c-45c9-99f2-4dffbeb939a3",
   "metadata": {},
   "outputs": [],
   "source": [
    "drivstoff_forbruk_elbil = 0.2  # kWh/km\n",
    "strømpris = 2.00  # kr/kWh\n",
    "drivstoff_forbruk_bensinbil = 1.0  # kr/km\n",
    "drivstoffkostnad_elbil = drivstoff_forbruk_elbil * strømpris * km_per_aar\n",
    "drivstoffkostnad_bensinbil = drivstoff_forbruk_bensinbil * km_per_aar"
   ]
  },
  {
   "cell_type": "markdown",
   "id": "341f7f49-37bf-4898-a5fe-2c241cc0072d",
   "metadata": {},
   "source": [
    "# Bomavgift per km"
   ]
  },
  {
   "cell_type": "code",
   "execution_count": 146,
   "id": "dd9dd3fa-64ff-4c12-913b-ff552a16c1d5",
   "metadata": {},
   "outputs": [],
   "source": [
    "bomavgift_elbil = 0.1  # kr/km\n",
    "bomavgift_bensinbil = 0.3  # kr/km\n",
    "bomavgift_elbil_aar = bomavgift_elbil * km_per_aar\n",
    "bomavgift_bensinbil_aar = bomavgift_bensinbil * km_per_aar"
   ]
  },
  {
   "cell_type": "markdown",
   "id": "55303be8-84cb-4443-a8be-2e68a0d4478e",
   "metadata": {},
   "source": [
    "# Totalkostnader per år for elbil og bensinbil"
   ]
  },
  {
   "cell_type": "code",
   "execution_count": 148,
   "id": "606eb518-3b68-4327-b55c-3ba1c8a647da",
   "metadata": {},
   "outputs": [],
   "source": [
    "total_kostnad_elbil = forsikring_elbil + trafikkforsikringsavgift_aar + drivstoffkostnad_elbil + bomavgift_elbil_aar\n",
    "total_kostnad_bensinbil = forsikring_bensinbil + trafikkforsikringsavgift_aar + drivstoffkostnad_bensinbil + bomavgift_bensinbil_aar"
   ]
  },
  {
   "cell_type": "markdown",
   "id": "d9ae8ea1-03ef-4b0e-bc1a-45638f810707",
   "metadata": {},
   "source": [
    "# Kostnadsdifferanse"
   ]
  },
  {
   "cell_type": "code",
   "execution_count": 150,
   "id": "57a44cc8-8bcc-423e-9217-7db4f6b7362c",
   "metadata": {},
   "outputs": [],
   "source": [
    "kostnadsdifferanse = total_kostnad_bensinbil - total_kostnad_elbil\n"
   ]
  },
  {
   "cell_type": "markdown",
   "id": "ac7a023b-801e-4a5f-b009-922eaa63fae5",
   "metadata": {},
   "source": [
    "# Utskrift av resultatene"
   ]
  },
  {
   "cell_type": "code",
   "execution_count": 152,
   "id": "0f00671b-8428-41d5-8e32-76032e7111eb",
   "metadata": {},
   "outputs": [
    {
     "name": "stdout",
     "output_type": "stream",
     "text": [
      "Årlige totalkostnader:\n",
      "Elbil: 13058.7 kr\n",
      "Bensinbil: 23558.7 kr\n",
      "Årlig kostnadsdifferanse (bensinbil - elbil): 10500.0 kr\n"
     ]
    }
   ],
   "source": [
    "print(\"Årlige totalkostnader:\")\n",
    "print(\"Elbil:\", total_kostnad_elbil, \"kr\")\n",
    "print(\"Bensinbil:\", total_kostnad_bensinbil, \"kr\")\n",
    "print(\"Årlig kostnadsdifferanse (bensinbil - elbil):\", kostnadsdifferanse, \"kr\")"
   ]
  }
 ],
 "metadata": {
  "kernelspec": {
   "display_name": "Python 3 (ipykernel)",
   "language": "python",
   "name": "python3"
  },
  "language_info": {
   "codemirror_mode": {
    "name": "ipython",
    "version": 3
   },
   "file_extension": ".py",
   "mimetype": "text/x-python",
   "name": "python",
   "nbconvert_exporter": "python",
   "pygments_lexer": "ipython3",
   "version": "3.12.7"
  }
 },
 "nbformat": 4,
 "nbformat_minor": 5
}
